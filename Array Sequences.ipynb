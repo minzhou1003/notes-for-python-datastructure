{
 "cells": [
  {
   "cell_type": "markdown",
   "metadata": {},
   "source": [
    "# Notes for Array Sequences\n",
    "\n",
    "# Basic Concepts\n",
    "\n",
    "## 1. 3 main sequences class:\n",
    "\n",
    "List:[1, 2, 3]\n",
    "\n",
    "Tuple:(1, 2, 3)\n",
    "\n",
    "String:'123'\n",
    "\n",
    "All support indexing\n",
    "\n",
    "## 2. Low level array\n",
    "\n",
    "Computer main memory performs as 'RAM'(Random Access Memory).\n",
    "\n",
    "Individual byte of memory can be stored or retrieved in O(1) time.\n",
    "\n",
    "Python internally represents each Unicode with 16 bits (2 bytes).\n",
    "\n",
    "## 3. Copying array\n",
    "\n",
    "### shallow copy: \n",
    "\n",
    "just references the same elements, not the element itself.\n",
    "\n",
    "* extend method is adding references.\n",
    "\n",
    "### deep copy: \n",
    "\n",
    "use deep copy func to copy the content.\n",
    "\n",
    "\n",
    "## 4. Dynamic arrays\n",
    "\n",
    "* understanding underscore in Python\n",
    "https://hackernoon.com/understanding-the-underscore-of-python-309d1a029edc\n",
    "\n",
    "* Exercise\n",
    "http://nbviewer.jupyter.org/github/jmportilla/Python-for-Algorithms--Data-Structures--and-Interviews/blob/master/Array%20Sequences/Dynamic%20Array%20Exercise.ipynb"
   ]
  },
  {
   "cell_type": "markdown",
   "metadata": {},
   "source": [
    "# Interview Questions"
   ]
  },
  {
   "cell_type": "markdown",
   "metadata": {},
   "source": [
    "## 1. Anagram Check\n",
    "\n",
    "Given two strings, check to see if they are anagrams. An anagram is when the two strings can be written using the exact same letters (so you can just rearrange the letters to get a different phrase or word).\n",
    "\n",
    "For example:\n",
    "\n",
    "\"public relations\" is an anagram of \"crap built on lies.\"\n",
    "\n",
    "\"clint eastwood\" is an anagram of \"old west action\"\n",
    "\n",
    "Note: Ignore spaces and capitalization. So \"d go\" is an anagram of \"God\" and \"dog\" and \"o d g\"."
   ]
  },
  {
   "cell_type": "code",
   "execution_count": 16,
   "metadata": {},
   "outputs": [
    {
     "data": {
      "text/plain": [
       "True"
      ]
     },
     "execution_count": 16,
     "metadata": {},
     "output_type": "execute_result"
    }
   ],
   "source": [
    "# 242. Valid Anagram(https://leetcode.com/problems/valid-anagram/description/)\n",
    "# M1 simple way\n",
    "def anagram1(s1, s2):\n",
    "    # 1. repalce space and change to lowercase\n",
    "    s1 = s1.replace(' ', '').lower()\n",
    "    s2 = s2.replace(' ', '').lower()\n",
    "    # 2. compare sorted two arrays char by char\n",
    "    return sorted(s1) == sorted(s2)\n",
    "anagram1('dog', 'god')\n",
    "anagram1('public relations', 'crap built on lies')"
   ]
  },
  {
   "cell_type": "code",
   "execution_count": 17,
   "metadata": {},
   "outputs": [
    {
     "data": {
      "text/plain": [
       "True"
      ]
     },
     "execution_count": 17,
     "metadata": {},
     "output_type": "execute_result"
    }
   ],
   "source": [
    "# M2 hash table\n",
    "def anagram2(s1, s2):\n",
    "    # 0. clean up the string\n",
    "    s1 = s1.replace(' ', '').lower()\n",
    "    s2 = s2.replace(' ', '').lower()\n",
    "    # 1. corner case\n",
    "    if len(s1) != len(s2):\n",
    "        return False\n",
    "    # 2. go over s1 to build a dict count the frequency\n",
    "    count = {}\n",
    "    for c1 in s1:\n",
    "        if c1 in count:\n",
    "            count[c1] += 1\n",
    "        else:\n",
    "            count[c1] = 1\n",
    "    # 3. go through s2 substract the dict\n",
    "    for c2 in s2:\n",
    "        if c2 in count:\n",
    "            count[c2] -= 1\n",
    "        else:\n",
    "            count[c2] = 1\n",
    "    # 4. check if the dict if empty\n",
    "    for i in count:\n",
    "        if count[i] != 0:\n",
    "            return False\n",
    "    return True\n",
    "anagram2('sog', 'g os')"
   ]
  },
  {
   "cell_type": "markdown",
   "metadata": {},
   "source": [
    "## Test"
   ]
  },
  {
   "cell_type": "code",
   "execution_count": 25,
   "metadata": {},
   "outputs": [
    {
     "name": "stdout",
     "output_type": "stream",
     "text": [
      "ALL TEST CASES PASSED\n"
     ]
    }
   ],
   "source": [
    "\"\"\"\n",
    "RUN THIS CELL TO TEST YOUR SOLUTION\n",
    "\"\"\"\n",
    "from nose.tools import assert_equal\n",
    "\n",
    "class AnagramTest(object):\n",
    "    \n",
    "    def test(self,sol):\n",
    "        assert_equal(sol('go go go','gggooo'),True)\n",
    "        assert_equal(sol('abc','cba'),True)\n",
    "        assert_equal(sol('hi man','hi     man'),True)\n",
    "        assert_equal(sol('aabbcc','aabbc'),False)\n",
    "        assert_equal(sol('123','1 2'),False)\n",
    "        print ('ALL TEST CASES PASSED')\n",
    "\n",
    "# Run Tests\n",
    "t = AnagramTest()\n",
    "t.test(anagram2)"
   ]
  },
  {
   "cell_type": "markdown",
   "metadata": {},
   "source": [
    "## 2. Array Pair Sum\n",
    "\n",
    "Given an integer array, output all the unique pairs that sum up to a specific value k.\n",
    "\n",
    "So the input:\n",
    "\n",
    "pair_sum([1,3,2,2],4)\n",
    "\n",
    "would return 2 pairs:\n",
    "\n",
    " (1,3)\n",
    " (2,2)\n",
    "\n",
    "NOTE: FOR TESTING PURPOSES CHANGE YOUR FUNCTION SO IT OUTPUTS THE NUMBER OF PAIRS"
   ]
  },
  {
   "cell_type": "code",
   "execution_count": 30,
   "metadata": {},
   "outputs": [
    {
     "name": "stdout",
     "output_type": "stream",
     "text": [
      "(1, 3)\n",
      "(2, 2)\n"
     ]
    }
   ],
   "source": [
    "# Set\n",
    "def pair_sum(arr, k):\n",
    "    # 1. corner case\n",
    "    if len(arr) < 2:\n",
    "        return\n",
    "    # 2. sets for tracking\n",
    "    seen = set()\n",
    "    res = set()\n",
    "    # 3. if seen target, add to res, else add to seen\n",
    "    for num in arr:\n",
    "        target = k - num\n",
    "        if target in seen:\n",
    "            res.add((min(num, target), max(num, target)))\n",
    "        else:\n",
    "            seen.add(num)\n",
    "    # 4. print the res\n",
    "    # return len(res)\n",
    "    print('\\n'.join(map(str, list(res)))) \n",
    "\n",
    "pair_sum([1,3,2,2],4)"
   ]
  },
  {
   "cell_type": "markdown",
   "metadata": {},
   "source": [
    "## Test"
   ]
  },
  {
   "cell_type": "code",
   "execution_count": 29,
   "metadata": {},
   "outputs": [
    {
     "name": "stdout",
     "output_type": "stream",
     "text": [
      "ALL TEST CASES PASSED\n"
     ]
    }
   ],
   "source": [
    "\"\"\"\n",
    "RUN THIS CELL TO TEST YOUR SOLUTION\n",
    "\"\"\"\n",
    "from nose.tools import assert_equal\n",
    "\n",
    "class TestPair(object):\n",
    "    \n",
    "    def test(self,sol):\n",
    "        assert_equal(sol([1,9,2,8,3,7,4,6,5,5,13,14,11,13,-1],10),6)\n",
    "        assert_equal(sol([1,2,3,1],3),1)\n",
    "        assert_equal(sol([1,3,2,2],4),2)\n",
    "        print('ALL TEST CASES PASSED')\n",
    "        \n",
    "#Run tests\n",
    "t = TestPair()\n",
    "t.test(pair_sum)"
   ]
  },
  {
   "cell_type": "markdown",
   "metadata": {},
   "source": [
    "## 3. Find the Missing Element\n",
    "\n",
    "Consider an array of non-negative integers. A second array is formed by shuffling the elements of the first array and deleting a random element. Given these two arrays, find which element is missing in the second array.\n",
    "\n",
    "Here is an example input, the first array is shuffled and the number 5 is removed to construct the second array.\n",
    "\n",
    "Input:\n",
    "\n",
    "finder([1,2,3,4,5,6,7],[3,7,2,1,4,6])\n",
    "\n",
    "Output:\n",
    "\n",
    "5 is the missing number"
   ]
  },
  {
   "cell_type": "code",
   "execution_count": 41,
   "metadata": {},
   "outputs": [],
   "source": [
    "# M1 O(nlogn) sort\n",
    "def finder1(arr1, arr2):\n",
    "    # 1. sort two arrays\n",
    "    arr1.sort()\n",
    "    arr2.sort()\n",
    "    # 2. go through two arrs and return the different ele\n",
    "    for n1, n2 in zip(arr1, arr2):\n",
    "        if n1 != n2:\n",
    "            return n1\n",
    "    # 3. if no different ele, return the last one in arr1\n",
    "    return arr[-1]"
   ]
  },
  {
   "cell_type": "markdown",
   "metadata": {},
   "source": [
    "* zip('ABCD', 'xy') --> Ax By\n",
    "* Returns an iterator of tuples, where the i-th tuple contains the i-th element from each of the argument sequences or iterables."
   ]
  },
  {
   "cell_type": "code",
   "execution_count": 48,
   "metadata": {},
   "outputs": [],
   "source": [
    "# M2 O(n) hash table\n",
    "import collections\n",
    "\n",
    "def finder2(arr1, arr2):\n",
    "    # 1. create a default dict to avoid existing key\n",
    "    d = collections.defaultdict(int)\n",
    "    # 2. count arr2\n",
    "    for n in arr2:\n",
    "        d[n] += 1\n",
    "    # 3. go over arr1, if the value is 0 return the key, else substract count\n",
    "    for n in arr1:\n",
    "        if d[n] == 0:\n",
    "            return n\n",
    "        else:\n",
    "            d[n] -= 1"
   ]
  },
  {
   "cell_type": "markdown",
   "metadata": {},
   "source": [
    "* use collection.defaultdict to avoid key error"
   ]
  },
  {
   "cell_type": "code",
   "execution_count": null,
   "metadata": {
    "collapsed": true
   },
   "outputs": [],
   "source": [
    "# M3 O(n)\n",
    "# samrt way: sum(arr1) - sum(arr2)\n",
    "# trouble: the array is too long or the number is very large may ot very\n",
    "# small may cause overflow"
   ]
  },
  {
   "cell_type": "code",
   "execution_count": 52,
   "metadata": {
    "collapsed": true
   },
   "outputs": [],
   "source": [
    "# M4 O(n) XOR: same = 0, diff = 1\n",
    "def finder3(arr1, arr2):\n",
    "    # 1. initialize a variable to 0\n",
    "    res = 0\n",
    "    # 2. XOR every ele in two arrays with the variable\n",
    "    for num in arr1 + arr2:\n",
    "        res ^= num\n",
    "    # 3. the result is the value of the variable\n",
    "    return res"
   ]
  },
  {
   "cell_type": "code",
   "execution_count": 53,
   "metadata": {},
   "outputs": [
    {
     "name": "stdout",
     "output_type": "stream",
     "text": [
      "ALL TEST CASES PASSED\n"
     ]
    }
   ],
   "source": [
    "\"\"\"\n",
    "RUN THIS CELL TO TEST YOUR SOLUTION\n",
    "\"\"\"\n",
    "from nose.tools import assert_equal\n",
    "\n",
    "class TestFinder(object):\n",
    "    \n",
    "    def test(self,sol):\n",
    "        assert_equal(sol([5,5,7,7],[5,7,7]),5)\n",
    "        assert_equal(sol([1,2,3,4,5,6,7],[3,7,2,1,4,6]),5)\n",
    "        assert_equal(sol([9,8,7,6,5,4,3,2,1],[9,8,7,5,4,3,2,1]),6)\n",
    "        print('ALL TEST CASES PASSED')\n",
    "\n",
    "# Run test\n",
    "t = TestFinder()\n",
    "t.test(finder3)"
   ]
  },
  {
   "cell_type": "markdown",
   "metadata": {},
   "source": [
    "## 4. Largest Continuous Sum\n",
    "\n",
    "Given an array of integers (positive and negative) find the largest continuous sum."
   ]
  },
  {
   "cell_type": "code",
   "execution_count": 61,
   "metadata": {
    "collapsed": true
   },
   "outputs": [],
   "source": [
    "# consider positive and negative number\n",
    "def large_cont_sum(arr):\n",
    "    # 1. corner case\n",
    "    if len(arr) < 2:\n",
    "        return arr[0]\n",
    "    # 2. set cur_sum and max_sum to the first ele\n",
    "    cur_sum = max_sum = arr[0]\n",
    "    # 3. for every ele in arr from second, update cur_sum and max_sum\n",
    "    for n in arr[1:]:\n",
    "        cur_sum = max(cur_sum + n, n)\n",
    "        max_sum = max(max_sum, cur_sum)\n",
    "    # 4. return max_sum\n",
    "    return max_sum\n",
    "    "
   ]
  },
  {
   "cell_type": "code",
   "execution_count": 62,
   "metadata": {},
   "outputs": [
    {
     "name": "stdout",
     "output_type": "stream",
     "text": [
      "ALL TEST CASES PASSED\n"
     ]
    }
   ],
   "source": [
    "from nose.tools import assert_equal\n",
    "\n",
    "class LargeContTest(object):\n",
    "    def test(self,sol):\n",
    "        assert_equal(sol([1,2,-1,3,4,-1]),9)\n",
    "        assert_equal(sol([1,2,-1,3,4,10,10,-10,-1]),29)\n",
    "        assert_equal(sol([-1,1]),1)\n",
    "        print('ALL TEST CASES PASSED')\n",
    "        \n",
    "#Run Test\n",
    "t = LargeContTest()\n",
    "t.test(large_cont_sum)"
   ]
  },
  {
   "cell_type": "markdown",
   "metadata": {},
   "source": [
    "## 5. Sentense Reversal\n",
    "\n",
    "Given a string of words, reverse all the words. For example:\n",
    "\n",
    "Given:\n",
    "\n",
    "```'This is the best'```\n",
    "\n",
    "Return:\n",
    "\n",
    "```'best the is This'```\n",
    "\n",
    "As part of this exercise you should remove all leading and trailing whitespace. So that inputs such as:\n",
    "\n",
    "```'  space here'  and 'space here      '```\n",
    "\n",
    "both become:\n",
    "\n",
    "```'here space'```\n"
   ]
  },
  {
   "cell_type": "code",
   "execution_count": 77,
   "metadata": {},
   "outputs": [],
   "source": [
    "# M1 pyhton's split() & reversed()\n",
    "def rev_sentense1(s):\n",
    "    return ' '.join(reversed(s.split()))"
   ]
  },
  {
   "cell_type": "code",
   "execution_count": 88,
   "metadata": {},
   "outputs": [],
   "source": [
    "def rev_sentense2(s):\n",
    "    # 1. initialize a space\n",
    "    space = [' ']\n",
    "    res = []\n",
    "    i = 0\n",
    "    # 2. go through sentense and add word to the res based on space\n",
    "    while i < len(s):\n",
    "        if s[i] not in space:\n",
    "            start = i\n",
    "            while i < len(s) and s[i] not in space:\n",
    "                i += 1\n",
    "            res.append(s[start : i])\n",
    "        i += 1\n",
    "    # 3. join words in reversed order\n",
    "    return ' '.join(res[: : -1])\n",
    "    # 4. write own reversed() "
   ]
  },
  {
   "cell_type": "code",
   "execution_count": 89,
   "metadata": {},
   "outputs": [
    {
     "name": "stdout",
     "output_type": "stream",
     "text": [
      "ALL TEST CASES PASSED\n"
     ]
    }
   ],
   "source": [
    "\"\"\"\n",
    "RUN THIS CELL TO TEST YOUR SOLUTION\n",
    "\"\"\"\n",
    "\n",
    "from nose.tools import assert_equal\n",
    "\n",
    "class ReversalTest(object):\n",
    "    \n",
    "    def test(self,sol):\n",
    "        assert_equal(sol('    space before'),'before space')\n",
    "        assert_equal(sol('space after     '),'after space')\n",
    "        assert_equal(sol('   Hello John    how are you   '),'you are how John Hello')\n",
    "        assert_equal(sol('1'),'1')\n",
    "        print(\"ALL TEST CASES PASSED\")\n",
    "        \n",
    "# Run and test\n",
    "t = ReversalTest()\n",
    "t.test(rev_sentense2)"
   ]
  },
  {
   "cell_type": "markdown",
   "metadata": {},
   "source": [
    "## 6. String Compression\n",
    "\n",
    "Given a string in the form 'AAAABBBBCCCCCDDEEEE' compress it to become 'A4B4C5D2E4'. For this problem, you can falsely \"compress\" strings of single or double letters. For instance, it is okay for 'AAB' to return 'A2B1' even though this technically takes more space.\n",
    "\n",
    "The function should also be case sensitive, so that a string 'AAAaaa' returns 'A3a3'."
   ]
  },
  {
   "cell_type": "code",
   "execution_count": 103,
   "metadata": {},
   "outputs": [],
   "source": [
    "# O(n)\n",
    "def compress(s):\n",
    "    # 1. initialize variables\n",
    "    l = len(s)\n",
    "    cnt = 1\n",
    "    i = 1\n",
    "    res = ''\n",
    "    # 2. corner case\n",
    "    if l < 1:\n",
    "        return ''\n",
    "    if l < 2:\n",
    "        return s + '1'\n",
    "    # 3. if two letter are same, cnt++, else, add the char and cnt to res\n",
    "    # Note: reset cnt\n",
    "    while i < l:\n",
    "        if s[i] == s[i - 1]:\n",
    "            cnt += 1\n",
    "        else:\n",
    "            res = res + s[i - 1] + str(cnt)\n",
    "            cnt = 1\n",
    "        i += 1\n",
    "    # 4. return res\n",
    "    res = res + s[i - 1] + str(cnt)\n",
    "    return res"
   ]
  },
  {
   "cell_type": "code",
   "execution_count": 104,
   "metadata": {},
   "outputs": [
    {
     "name": "stdout",
     "output_type": "stream",
     "text": [
      "ALL TEST CASES PASSED\n"
     ]
    }
   ],
   "source": [
    "\"\"\"\n",
    "RUN THIS CELL TO TEST YOUR SOLUTION\n",
    "\"\"\"\n",
    "from nose.tools import assert_equal\n",
    "\n",
    "class TestCompress(object):\n",
    "\n",
    "    def test(self, sol):\n",
    "        assert_equal(sol(''), '')\n",
    "        assert_equal(sol('AABBCC'), 'A2B2C2')\n",
    "        assert_equal(sol('AAABCCDDDDD'), 'A3B1C2D5')\n",
    "        print(\"ALL TEST CASES PASSED\")\n",
    "\n",
    "# Run Tests\n",
    "t = TestCompress()\n",
    "t.test(compress)"
   ]
  },
  {
   "cell_type": "markdown",
   "metadata": {},
   "source": [
    "## 7. Unique Characters in String\n",
    "\n",
    "Given a string,determine if it is compreised of all unique characters. For example, the string 'abcde' has all unique characters and should return True. The string 'aabcde' contains duplicate characters and should return false."
   ]
  },
  {
   "cell_type": "code",
   "execution_count": 105,
   "metadata": {
    "collapsed": true
   },
   "outputs": [],
   "source": [
    "# M1 Set\n",
    "def uni_char1(s):\n",
    "    # use set property\n",
    "    return len(set(s)) == len(s)"
   ]
  },
  {
   "cell_type": "code",
   "execution_count": 109,
   "metadata": {
    "collapsed": true
   },
   "outputs": [],
   "source": [
    "# M2 \n",
    "def uni_char2(s):\n",
    "    # 1. create a set\n",
    "    uni_set = set()\n",
    "    # 2. go through ele check if letter in set, return false, else, add to set\n",
    "    for char in s:\n",
    "        if char in uni_set:\n",
    "            return False\n",
    "        else:\n",
    "            uni_set.add(char)\n",
    "    # 3. return true\n",
    "    return True"
   ]
  },
  {
   "cell_type": "code",
   "execution_count": 111,
   "metadata": {},
   "outputs": [
    {
     "name": "stdout",
     "output_type": "stream",
     "text": [
      "ALL TEST CASES PASSED\n"
     ]
    }
   ],
   "source": [
    "\"\"\"\n",
    "RUN THIS CELL TO TEST YOUR CODE>\n",
    "\"\"\"\n",
    "from nose.tools import assert_equal\n",
    "\n",
    "\n",
    "class TestUnique(object):\n",
    "\n",
    "    def test(self, sol):\n",
    "        assert_equal(sol(''), True)\n",
    "        assert_equal(sol('goo'), False)\n",
    "        assert_equal(sol('abcdefg'), True)\n",
    "        print(\"ALL TEST CASES PASSED\")\n",
    "        \n",
    "# Run Tests\n",
    "t = TestUnique()\n",
    "t.test(uni_char2)"
   ]
  },
  {
   "cell_type": "code",
   "execution_count": null,
   "metadata": {
    "collapsed": true
   },
   "outputs": [],
   "source": []
  }
 ],
 "metadata": {
  "kernelspec": {
   "display_name": "Python 3",
   "language": "python",
   "name": "python3"
  },
  "language_info": {
   "codemirror_mode": {
    "name": "ipython",
    "version": 3
   },
   "file_extension": ".py",
   "mimetype": "text/x-python",
   "name": "python",
   "nbconvert_exporter": "python",
   "pygments_lexer": "ipython3",
   "version": "3.5.4"
  },
  "widgets": {
   "state": {},
   "version": "1.1.2"
  }
 },
 "nbformat": 4,
 "nbformat_minor": 2
}
